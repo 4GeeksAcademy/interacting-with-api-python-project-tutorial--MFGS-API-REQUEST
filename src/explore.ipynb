{
    "cells": [
        {
            "cell_type": "markdown",
            "metadata": {},
            "source": [
                "# Explore here"
            ]
        },
        {
            "cell_type": "code",
            "execution_count": 46,
            "metadata": {},
            "outputs": [
                {
                    "name": "stdout",
                    "output_type": "stream",
                    "text": [
                        "Client ID: 24649...\n",
                        "Client Secret: 0da6c...\n",
                        "Rubia Sol Morena Luna\n",
                        "La Casa\n",
                        "Sanitarios\n",
                        "El Último Polvo\n",
                        "El Instante Pasó\n",
                        "Verónica\n",
                        "Verano\n",
                        "2 Caras 2 Corazones\n",
                        "Las Estrellas\n",
                        "Adiós Amor\n"
                    ]
                }
            ],
            "source": [
                "import os\n",
                "import pandas as pd\n",
                "import matplotlib.pyplot as plt\n",
                "from dotenv import load_dotenv\n",
                "import spotipy\n",
                "from spotipy.oauth2 import SpotifyClientCredentials\n",
                "\n",
                "# Cargar las variables del archivo .env\n",
                "load_dotenv()\n",
                "\n",
                "# Obtener las credenciales reales\n",
                "client_id = os.environ.get(\"CLIENT_ID\")\n",
                "client_secret = os.environ.get(\"CLIENT_SECRET\")\n",
                "\n",
                "# Verificar que no estén vacías\n",
                "print(\"Client ID:\", client_id[:5] + \"...\" if client_id else \"❌ CLIENT_ID no encontrado\")\n",
                "print(\"Client Secret:\", client_secret[:5] + \"...\" if client_secret else \"❌ CLIENT_SECRET no encontrado\")\n",
                "\n",
                "# Autenticación con Spotify\n",
                "auth_manager = SpotifyClientCredentials(client_id=client_id, client_secret=client_secret)\n",
                "spotify = spotipy.Spotify(auth_manager=auth_manager)\n",
                "\n",
                "# Hacer una consulta\n",
                "lz_uri = '34OLInsXImlQpjzmQw9Wd3'\n",
                "results = spotify.artist_top_tracks(lz_uri)\n",
                "\n",
                "# Mostrar resultados\n",
                "for track in results['tracks'][:10]:\n",
                "    print(track['name'])\n"
            ]
        },
        {
            "cell_type": "code",
            "execution_count": 47,
            "metadata": {},
            "outputs": [
                {
                    "name": "stdout",
                    "output_type": "stream",
                    "text": [
                        "                Nombre  Popularidad  Duración (min)  \\\n",
                        "9           Adiós Amor           48            3.68   \n",
                        "7  2 Caras 2 Corazones           49            3.32   \n",
                        "8        Las Estrellas           49            3.15   \n",
                        "\n",
                        "                                                 URL  \n",
                        "9  https://open.spotify.com/track/4gJqqE5Tn9bPwTj...  \n",
                        "7  https://open.spotify.com/track/42SDMQsfHin20j3...  \n",
                        "8  https://open.spotify.com/track/37aNApKMbeiyTe6...  \n"
                    ]
                }
            ],
            "source": [
                "# Crear lista de diccionarios con los datos que queremos\n",
                "tracks_data = []\n",
                "\n",
                "for track in results['tracks']:\n",
                "    tracks_data.append({\n",
                "        'Nombre': track['name'],\n",
                "        'Popularidad': track['popularity'],\n",
                "        'Duración (min)': round(track['duration_ms'] / 60000, 2),\n",
                "        'URL': track['external_urls']['spotify']\n",
                "    })\n",
                "\n",
                "# Convertir a DataFrame\n",
                "df_tracks = pd.DataFrame(tracks_data)\n",
                "\n",
                "# Ordenar por popularidad de forma creciente\n",
                "df_sorted = df_tracks.sort_values(by='Popularidad', ascending=True)\n",
                "\n",
                "# Mostrar el top 3 de menor popularidad\n",
                "print(df_sorted.head(3))\n"
            ]
        },
        {
            "cell_type": "code",
            "execution_count": 48,
            "metadata": {},
            "outputs": [
                {
                    "data": {
                        "image/png": "[encoded data removed]",
                        "text/plain": [
                            "<Figure size 800x500 with 1 Axes>"
                        ]
                    },
                    "metadata": {},
                    "output_type": "display_data"
                }
            ],
            "source": [
                "import matplotlib.pyplot as plt\n",
                "\n",
                "# Scatter plot: Duración vs Popularidad\n",
                "plt.figure(figsize=(8, 5))\n",
                "plt.scatter(df_tracks['Duración (min)'], df_tracks['Popularidad'], color='mediumseagreen')\n",
                "plt.title('¿Influye la duración en la popularidad?', fontsize=14)\n",
                "plt.xlabel('Duración de la canción (min)')\n",
                "plt.ylabel('Popularidad')\n",
                "plt.grid(True)\n",
                "plt.show()\n"
            ]
        },
        {
            "cell_type": "code",
            "execution_count": 49,
            "metadata": {},
            "outputs": [
                {
                    "name": "stdout",
                    "output_type": "stream",
                    "text": [
                        "Coeficiente de correlación: 0.16\n"
                    ]
                }
            ],
            "source": [
                "correlacion = df_tracks['Duración (min)'].corr(df_tracks['Popularidad'])\n",
                "print(f\"Coeficiente de correlación: {correlacion:.2f}\")"
            ]
        },
        {
            "cell_type": "markdown",
            "metadata": {},
            "source": [
                "- No parece haber relación entre la duración de las canciones y su popularidad. "
            ]
        },
        {
            "cell_type": "code",
            "execution_count": null,
            "metadata": {},
            "outputs": [],
            "source": []
        }
    ],
    "metadata": {
        "kernelspec": {
            "display_name": "Python 3",
            "language": "python",
            "name": "python3"
        },
        "language_info": {
            "codemirror_mode": {
                "name": "ipython",
                "version": 3
            },
            "file_extension": ".py",
            "mimetype": "text/x-python",
            "name": "python",
            "nbconvert_exporter": "python",
            "pygments_lexer": "ipython3",
            "version": "3.13.2"
        },
        "orig_nbformat": 4
    },
    "nbformat": 4,
    "nbformat_minor": 2
}
